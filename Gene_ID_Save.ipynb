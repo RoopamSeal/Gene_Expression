{
  "nbformat": 4,
  "nbformat_minor": 0,
  "metadata": {
    "colab": {
      "provenance": [],
      "include_colab_link": true
    },
    "kernelspec": {
      "name": "ir",
      "display_name": "R"
    },
    "language_info": {
      "name": "R"
    }
  },
  "cells": [
    {
      "cell_type": "markdown",
      "metadata": {
        "id": "view-in-github",
        "colab_type": "text"
      },
      "source": [
        "<a href=\"https://colab.research.google.com/github/RoopamSeal/Gene_ID_Fetch/blob/main/Gene_ID_Save.ipynb\" target=\"_parent\"><img src=\"https://colab.research.google.com/assets/colab-badge.svg\" alt=\"Open In Colab\"/></a>"
      ]
    },
    {
      "cell_type": "code",
      "source": [
        "# Install necessary packages if you haven't already\n",
        "# install.packages(\"httr\")\n",
        "# install.packages(\"rvest\")\n",
        "# install.packages(\"stringr\")\n",
        "# install.packages(\"dplyr\") # For data manipulation if needed\n",
        "\n",
        "library(httr)\n",
        "library(rvest)\n",
        "library(stringr)\n",
        "library(dplyr)\n",
        "\n",
        "gene_accession_numbers <- c(\"NM_000014\", \"NM_000015\", \"NM_000016\", \"NM_000017\", \"NM_000018\")\n",
        "\n",
        "# If your accession numbers are in a CSV file, you can read them like this:\n",
        "# gene_accession_numbers <- read.csv(\"your_accessions.csv\", header = FALSE, stringsAsFactors = FALSE)$V1\n",
        "\n",
        "base_url <- \"https://www.ncbi.nlm.nih.gov/nuccore/\"\n",
        "\n",
        "output_directory <- \"saved_ncbi_nuccore_pages\"\n",
        "if (!dir.exists(output_directory)) {\n",
        "  dir.create(output_directory)\n",
        "}\n",
        "\n",
        "for (accession_num in gene_accession_numbers) {\n",
        "  # Construct the full URL\n",
        "  full_url <- paste0(base_url, accession_num)\n",
        "  message(paste(\"Attempting to fetch:\", full_url))\n",
        "\n",
        "  response <- GET(full_url)\n",
        "\n",
        "  if (http_status(response)$category == \"Success\") {\n",
        "    # Extract the content as text\n",
        "    webpage_content <- content(response, \"text\", encoding = \"UTF-8\")\n",
        "\n",
        "    # Define the output file path\n",
        "    file_name <- paste0(accession_num, \".html\")\n",
        "    file_path <- file.path(output_directory, file_name)\n",
        "\n",
        "    # Save the content to a file\n",
        "    writeLines(webpage_content, file_path, useBytes = TRUE)\n",
        "    message(paste(\"Successfully saved:\", file_path))\n",
        "  } else {\n",
        "    warning(paste(\"Failed to fetch\", full_url, \"Status:\", http_status(response)$reason))\n",
        "  }\n",
        "\n",
        "  Sys.sleep(1)\n",
        "}\n",
        "\n",
        "message(\"Process complete!\")\n"
      ],
      "metadata": {
        "id": "nCmNDTQ4bHO0",
        "colab": {
          "base_uri": "https://localhost:8080/"
        },
        "outputId": "d741d796-0203-421d-c681-14fbcd68086a"
      },
      "execution_count": 9,
      "outputs": [
        {
          "output_type": "stream",
          "name": "stderr",
          "text": [
            "Attempting to fetch: https://www.ncbi.nlm.nih.gov/nuccore/NM_000014\n",
            "\n",
            "Successfully saved: saved_ncbi_nuccore_pages/NM_000014.html\n",
            "\n",
            "Attempting to fetch: https://www.ncbi.nlm.nih.gov/nuccore/NM_000015\n",
            "\n",
            "Successfully saved: saved_ncbi_nuccore_pages/NM_000015.html\n",
            "\n",
            "Attempting to fetch: https://www.ncbi.nlm.nih.gov/nuccore/NM_000016\n",
            "\n",
            "Successfully saved: saved_ncbi_nuccore_pages/NM_000016.html\n",
            "\n",
            "Attempting to fetch: https://www.ncbi.nlm.nih.gov/nuccore/NM_000017\n",
            "\n",
            "Successfully saved: saved_ncbi_nuccore_pages/NM_000017.html\n",
            "\n",
            "Attempting to fetch: https://www.ncbi.nlm.nih.gov/nuccore/NM_000018\n",
            "\n",
            "Successfully saved: saved_ncbi_nuccore_pages/NM_000018.html\n",
            "\n",
            "Process complete!\n",
            "\n"
          ]
        }
      ]
    }
  ]
}